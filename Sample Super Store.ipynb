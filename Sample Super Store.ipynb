{
 "cells": [
  {
   "cell_type": "markdown",
   "metadata": {},
   "source": [
    "# The Sparks Foundation #GRIPMAY21"
   ]
  },
  {
   "cell_type": "markdown",
   "metadata": {},
   "source": [
    "## Name:- Ajit Yadav\n",
    "## Task:- Exploratory Data Analysis - Retail\n",
    "### Perform ‘Exploratory Data Analysis’ on dataset ‘SampleSuperstore"
   ]
  },
  {
   "cell_type": "markdown",
   "metadata": {},
   "source": [
    "#### Data URL:- https://bit.ly/3i4rbWl"
   ]
  },
  {
   "cell_type": "markdown",
   "metadata": {},
   "source": [
    "### Objective:\n",
    "#### ● As a business manager, try to find out the weak areas where you can work to make more profit. \n",
    "#### ● What all business problems you can derive by exploring the data? "
   ]
  },
  {
   "cell_type": "code",
   "execution_count": null,
   "metadata": {},
   "outputs": [],
   "source": [
    "import pandas as pd\n",
    "import numpy as np\n",
    "import seaborn as sns\n",
    "import matplotlib.pyplot as plt\n",
    "import warnings\n",
    "warnings.filterwarnings('ignore')\n"
   ]
  },
  {
   "cell_type": "code",
   "execution_count": null,
   "metadata": {},
   "outputs": [],
   "source": [
    "#importing the data\n",
    "data = pd.read_csv(\"C:\\\\Users\\\\lenovo\\Desktop\\\\The Sparks Foundation\\\\SampleSuperstoreData.csv\")"
   ]
  },
  {
   "cell_type": "code",
   "execution_count": null,
   "metadata": {},
   "outputs": [],
   "source": [
    "#understanding the data\n",
    "data.head()"
   ]
  },
  {
   "cell_type": "code",
   "execution_count": null,
   "metadata": {},
   "outputs": [],
   "source": [
    "data.tail()"
   ]
  },
  {
   "cell_type": "code",
   "execution_count": null,
   "metadata": {},
   "outputs": [],
   "source": [
    "data.dtypes"
   ]
  },
  {
   "cell_type": "code",
   "execution_count": null,
   "metadata": {},
   "outputs": [],
   "source": [
    "data.shape"
   ]
  },
  {
   "cell_type": "code",
   "execution_count": null,
   "metadata": {},
   "outputs": [],
   "source": [
    "data.describe()"
   ]
  },
  {
   "cell_type": "code",
   "execution_count": null,
   "metadata": {},
   "outputs": [],
   "source": [
    "data.columns"
   ]
  },
  {
   "cell_type": "code",
   "execution_count": null,
   "metadata": {},
   "outputs": [],
   "source": [
    "data.nunique()"
   ]
  },
  {
   "cell_type": "code",
   "execution_count": null,
   "metadata": {},
   "outputs": [],
   "source": [
    "data['Ship Mode'].unique()"
   ]
  },
  {
   "cell_type": "code",
   "execution_count": null,
   "metadata": {},
   "outputs": [],
   "source": [
    "data['Segment'].unique()"
   ]
  },
  {
   "cell_type": "code",
   "execution_count": null,
   "metadata": {},
   "outputs": [],
   "source": [
    "data['Region'].unique()"
   ]
  },
  {
   "cell_type": "code",
   "execution_count": null,
   "metadata": {},
   "outputs": [],
   "source": [
    "data['Category'].unique()"
   ]
  },
  {
   "cell_type": "code",
   "execution_count": null,
   "metadata": {},
   "outputs": [],
   "source": [
    "data['Sub-Category'].unique()"
   ]
  },
  {
   "cell_type": "code",
   "execution_count": null,
   "metadata": {},
   "outputs": [],
   "source": [
    "# Cleaning the data\n",
    "data.isnull().sum()"
   ]
  },
  {
   "cell_type": "code",
   "execution_count": null,
   "metadata": {},
   "outputs": [],
   "source": [
    "#to cehck presence of duplicates\n",
    "data.duplicated().sum()"
   ]
  },
  {
   "cell_type": "code",
   "execution_count": null,
   "metadata": {},
   "outputs": [],
   "source": [
    "data.drop_duplicates(inplace=True)"
   ]
  },
  {
   "cell_type": "code",
   "execution_count": null,
   "metadata": {},
   "outputs": [],
   "source": [
    "data.shape"
   ]
  },
  {
   "cell_type": "code",
   "execution_count": null,
   "metadata": {},
   "outputs": [],
   "source": [
    "data1 = data.drop(['Country','Postal Code'],axis=1)"
   ]
  },
  {
   "cell_type": "code",
   "execution_count": null,
   "metadata": {},
   "outputs": [],
   "source": [
    "data1.head()"
   ]
  },
  {
   "cell_type": "code",
   "execution_count": null,
   "metadata": {},
   "outputs": [],
   "source": [
    "# Demand for each segment\n",
    "data1['Segment'].value_counts()"
   ]
  },
  {
   "cell_type": "code",
   "execution_count": null,
   "metadata": {},
   "outputs": [],
   "source": [
    "data1['Segment'].value_counts()/len(data1['Segment'])*100"
   ]
  },
  {
   "cell_type": "code",
   "execution_count": null,
   "metadata": {},
   "outputs": [],
   "source": [
    "(data1['Segment'].value_counts()/len(data1['Segment'])*100).plot(kind='bar')\n",
    "plt.title('Demand Of Segments')\n",
    "plt.xlabel('Segment')\n",
    "plt.ylabel('Percentages')"
   ]
  },
  {
   "cell_type": "markdown",
   "metadata": {},
   "source": [
    "##### Consumer Segment has more demand in USA followed by Corporate and Home Office."
   ]
  },
  {
   "cell_type": "code",
   "execution_count": null,
   "metadata": {},
   "outputs": [],
   "source": [
    " # Demand for each ship mode\n",
    "(data1['Ship Mode'].value_counts()/len(data1['Ship Mode'])*100).plot(kind='bar')\n",
    "plt.title('Demand Of Ship Mode')\n",
    "plt.xlabel('Ship Mode')\n",
    "plt.ylabel('Percentages')"
   ]
  },
  {
   "cell_type": "markdown",
   "metadata": {},
   "source": [
    "##### Standard Class ship mode has more demand than others."
   ]
  },
  {
   "cell_type": "code",
   "execution_count": null,
   "metadata": {},
   "outputs": [],
   "source": [
    "# Demand for each category\n",
    "(data1['Category'].value_counts()/len(data1['Category'])*100).plot(kind='bar')\n",
    "plt.title('Demand Of Categories')\n",
    "plt.xlabel('Categories')\n",
    "plt.ylabel('Percentages')"
   ]
  },
  {
   "cell_type": "markdown",
   "metadata": {},
   "source": [
    "###### Office Supplies has more demand than Furniture and Technology."
   ]
  },
  {
   "cell_type": "code",
   "execution_count": null,
   "metadata": {},
   "outputs": [],
   "source": [
    "#demand from various states\n",
    "(data1['State'].value_counts()/len(data1['State'])*100).plot(kind='bar',figsize=(20,7))\n",
    "plt.title('Demand For Products From Various States')\n",
    "plt.xlabel('States')\n",
    "plt.ylabel('Percentages')"
   ]
  },
  {
   "cell_type": "markdown",
   "metadata": {},
   "source": [
    "##### There are more customers from California followed by New York and Texas."
   ]
  },
  {
   "cell_type": "code",
   "execution_count": null,
   "metadata": {},
   "outputs": [],
   "source": [
    "#demand for sub-categories\n",
    "(data1['Sub-Category'].value_counts()/len(data1['Sub-Category'])*100).plot.pie(radius=2,autopct='%1.i%%')\n",
    "plt.title('Demand Of Sub-categories')\n"
   ]
  },
  {
   "cell_type": "markdown",
   "metadata": {},
   "source": [
    "##### Binders have more demand followed by Paper and Furnishings."
   ]
  },
  {
   "cell_type": "code",
   "execution_count": null,
   "metadata": {},
   "outputs": [],
   "source": [
    "# Demand for categories from different region\n",
    "sns.countplot(x=data['Region'],hue=data['Category'])"
   ]
  },
  {
   "cell_type": "markdown",
   "metadata": {},
   "source": [
    "##### West USA has more demand for all the categories followed by East, Central and South region of USA."
   ]
  },
  {
   "cell_type": "code",
   "execution_count": null,
   "metadata": {},
   "outputs": [],
   "source": [
    "# Relationship Analysis\n",
    "# Correlation matrix \n",
    "cor = data1.corr()\n",
    "sns.heatmap(cor,xticklabels = cor.columns,yticklabels = cor.columns,annot = True)"
   ]
  },
  {
   "cell_type": "markdown",
   "metadata": {},
   "source": [
    "##### Here, we can see that Profit and Sales have Moderately Positive Relationship .\n",
    "##### Profit and Discount have (Weak) Negative Relationship."
   ]
  },
  {
   "cell_type": "code",
   "execution_count": null,
   "metadata": {},
   "outputs": [],
   "source": [
    "sns.pairplot(data1)"
   ]
  },
  {
   "cell_type": "code",
   "execution_count": null,
   "metadata": {},
   "outputs": [],
   "source": [
    "#category wise profit and sales\n",
    "p=data.groupby('Category')['Profit','Sales'].agg('sum')\n",
    "print(p)\n",
    "p.plot.bar()\n",
    "plt.title('Category-wise Profit & Sales')"
   ]
  },
  {
   "cell_type": "code",
   "execution_count": null,
   "metadata": {},
   "outputs": [],
   "source": [
    "p=data.groupby('Sub-Category')['Profit','Sales'].agg('sum')\n",
    "print(p)\n",
    "p.plot.bar(figsize=(15,5))\n",
    "plt.title('Sub-Category wise Profit & Sales')"
   ]
  },
  {
   "cell_type": "code",
   "execution_count": null,
   "metadata": {},
   "outputs": [],
   "source": [
    "q=data.groupby('Segment')['Profit','Sales'].agg('sum')\n",
    "print(q)\n",
    "q.plot.bar()\n",
    "plt.title('Segment-wise Profit & Sales')"
   ]
  },
  {
   "cell_type": "code",
   "execution_count": null,
   "metadata": {},
   "outputs": [],
   "source": [
    "r=data.groupby('Ship Mode')['Profit','Sales'].agg('sum')\n",
    "print(r)\n",
    "r.plot.bar(figsize=(10,5))\n",
    "plt.title('ShipMode-wise Profit & Sales')\n"
   ]
  },
  {
   "cell_type": "code",
   "execution_count": null,
   "metadata": {},
   "outputs": [],
   "source": [
    "s=data.groupby('State')['Profit','Sales'].agg('sum')\n",
    "print(s)\n",
    "s.plot.bar(figsize=(15,7))\n",
    "plt.title('State-wise Profit & Sales')"
   ]
  },
  {
   "cell_type": "code",
   "execution_count": null,
   "metadata": {},
   "outputs": [],
   "source": [
    "p=data.groupby('Region')['Profit','Sales'].agg('sum')\n",
    "print(p)\n",
    "p.plot.bar(figsize=(10,5))\n",
    "plt.title('Region-wise Profit & Sales')"
   ]
  },
  {
   "cell_type": "markdown",
   "metadata": {},
   "source": [
    "##### •\tFrom the Categories, Technology has more sales and returns more profit followed by Office Supplies and Furniture.\n",
    "##### •\tFrom the Sub-Categories, Phones and Chairs have more sales but in terms of profit Accessories and Copiers are preferable.  Also, Tables, Supplies and Bookcases are in loss despite of having good number of sales.\n",
    "##### •\tIf we analyze Segment-wise, Consumer segment has more sales and profit followed by Corporate and Home Office segments.\n",
    "##### •\tCalifornia has highest sales and returns maximum profit followed by New York. Texas has the third highest sales but it does not returns good profit.\n",
    "##### •\tThere are more sales in West region of USA and returns more profit followed by East, Central and South region.\n"
   ]
  },
  {
   "cell_type": "code",
   "execution_count": null,
   "metadata": {},
   "outputs": [],
   "source": [
    "# Segmentwise distribution of profit\n",
    "plt.bar(data1['Segment'],data1['Profit'])\n",
    "plt.title(\"Segment-wise Profit\")\n",
    "plt.xlabel('Segment')\n",
    "plt.ylabel('Profit')"
   ]
  },
  {
   "cell_type": "code",
   "execution_count": null,
   "metadata": {},
   "outputs": [],
   "source": [
    "# Ship Mode wise distribution of profit\n",
    "plt.bar(data1['Ship Mode'],data1['Profit'])\n",
    "plt.title(\"Ship Mode-wise Profit\")\n",
    "plt.xlabel('Ship Mode')\n",
    "plt.ylabel('Profit')"
   ]
  },
  {
   "cell_type": "code",
   "execution_count": null,
   "metadata": {},
   "outputs": [],
   "source": [
    "#Category wise distribution of profit\n",
    "plt.bar(data1['Category'],data1['Profit'])\n",
    "plt.title(\"Category-wise Profit\")\n",
    "plt.xlabel('Category')\n",
    "plt.ylabel('Profit')"
   ]
  },
  {
   "cell_type": "code",
   "execution_count": null,
   "metadata": {},
   "outputs": [],
   "source": [
    "# Sub-Category wise distribution of profit\n",
    "plt.figure(figsize=(15,5))\n",
    "plt.bar(data1['Sub-Category'],data1['Profit'])\n",
    "plt.title(\"Sub-Category-wise Profit\")\n",
    "plt.xlabel('Sub-Category')\n",
    "plt.ylabel('Profit')"
   ]
  },
  {
   "cell_type": "code",
   "execution_count": null,
   "metadata": {},
   "outputs": [],
   "source": [
    "# Region wise distribution of profit\n",
    "plt.bar(data1['Region'],data1['Profit'])\n",
    "plt.title(\"Region-wise Profit\")\n",
    "plt.xlabel('Region')\n",
    "plt.ylabel('Profit')"
   ]
  },
  {
   "cell_type": "code",
   "execution_count": null,
   "metadata": {},
   "outputs": [],
   "source": [
    "sns.distplot(data1['Profit'])"
   ]
  },
  {
   "cell_type": "markdown",
   "metadata": {},
   "source": [
    "##### Since from above charts, we can easily say that profit is concentrated towards zero. "
   ]
  },
  {
   "cell_type": "code",
   "execution_count": null,
   "metadata": {},
   "outputs": [],
   "source": [
    "plt.bar(data1['Discount'],data1['Profit'])\n",
    "plt.title(\"Profit v/s Discount\")\n",
    "plt.xlabel('Discount')\n",
    "plt.ylabel('Profit')"
   ]
  },
  {
   "cell_type": "code",
   "execution_count": null,
   "metadata": {},
   "outputs": [],
   "source": [
    "data1.pivot_table(values='Sales',index='Segment',columns='Discount',aggfunc='median')"
   ]
  },
  {
   "cell_type": "code",
   "execution_count": null,
   "metadata": {},
   "outputs": [],
   "source": [
    "data1.pivot_table(values='Profit',index='Segment',columns='Discount',aggfunc='median')"
   ]
  },
  {
   "cell_type": "code",
   "execution_count": null,
   "metadata": {},
   "outputs": [],
   "source": [
    "temp = data1.loc[(data1['Segment']=='Consumer') & (data1['Discount']<0.3)]\n",
    "temp['Profit'].plot.hist()\n"
   ]
  },
  {
   "cell_type": "code",
   "execution_count": null,
   "metadata": {},
   "outputs": [],
   "source": [
    "temp1 = data1.loc[(data1['Segment']=='Corporate') & (data1['Discount']<0.3)]\n",
    "temp1['Profit'].plot.hist()\n"
   ]
  },
  {
   "cell_type": "code",
   "execution_count": null,
   "metadata": {},
   "outputs": [],
   "source": [
    "temp2 = data1.loc[(data1['Segment']=='Home Office') & (data1['Discount']<0.2)]\n",
    "temp2['Profit'].plot.hist()\n"
   ]
  },
  {
   "cell_type": "code",
   "execution_count": null,
   "metadata": {},
   "outputs": [],
   "source": [
    "data1.pivot_table(values='Sales',index='Category',columns='Discount',aggfunc='median')"
   ]
  },
  {
   "cell_type": "code",
   "execution_count": null,
   "metadata": {},
   "outputs": [],
   "source": [
    "data1.pivot_table(values='Profit',index='Category',columns='Discount',aggfunc='median')"
   ]
  },
  {
   "cell_type": "code",
   "execution_count": null,
   "metadata": {},
   "outputs": [],
   "source": [
    "temp3 = data1.loc[(data1['Category']=='Furniture') & (data1['Discount']<0.3)]\n",
    "temp3['Profit'].plot.hist()\n"
   ]
  },
  {
   "cell_type": "code",
   "execution_count": null,
   "metadata": {},
   "outputs": [],
   "source": [
    "temp4 = data1.loc[(data1['Category']=='Office Supplies') & (data1['Discount']<0.3)]\n",
    "temp4['Profit'].plot.hist()\n"
   ]
  },
  {
   "cell_type": "code",
   "execution_count": null,
   "metadata": {},
   "outputs": [],
   "source": [
    "temp5 = data1.loc[(data1['Category']=='Technology') & (data1['Discount']<=0.3)]\n",
    "temp5['Profit'].plot.hist()"
   ]
  },
  {
   "cell_type": "code",
   "execution_count": null,
   "metadata": {},
   "outputs": [],
   "source": [
    "data1.pivot_table(values='Sales',index='Sub-Category',columns='Discount',aggfunc='median')"
   ]
  },
  {
   "cell_type": "code",
   "execution_count": null,
   "metadata": {},
   "outputs": [],
   "source": [
    "data1.pivot_table(values='Profit',index='Sub-Category',columns='Discount',aggfunc='median')"
   ]
  },
  {
   "cell_type": "code",
   "execution_count": null,
   "metadata": {},
   "outputs": [],
   "source": [
    "temp3 = data1.loc[(data1['Sub-Category']=='Tables') & (data1['Discount']<0.3)]\n",
    "temp3['Profit'].plot.hist()"
   ]
  },
  {
   "cell_type": "code",
   "execution_count": null,
   "metadata": {},
   "outputs": [],
   "source": [
    "temp3 = data1.loc[(data1['Sub-Category']=='Machines') & (data1['Discount']<=0.3)]\n",
    "temp3['Profit'].plot.hist()"
   ]
  },
  {
   "cell_type": "markdown",
   "metadata": {},
   "source": [
    "### Conclusion:\n",
    "##### •\tFor all the segments, the discount should be strictly less than 0.30 in order to earn maximum profit.\n",
    "##### •\tFor the categories, Office Supplies and Furniture should have discount less than 0.30 but for technology discount should be less than or equal to 0.30.\n",
    "##### •\tFor all the sub-categories except Machines, discount should be strictly less then 0.30 and for Machines, discount should be less than or equal to 0.30.\n"
   ]
  }
 ],
 "metadata": {
  "kernelspec": {
   "display_name": "Python 3",
   "language": "python",
   "name": "python3"
  },
  "language_info": {
   "codemirror_mode": {
    "name": "ipython",
    "version": 3
   },
   "file_extension": ".py",
   "mimetype": "text/x-python",
   "name": "python",
   "nbconvert_exporter": "python",
   "pygments_lexer": "ipython3",
   "version": "3.8.3"
  }
 },
 "nbformat": 4,
 "nbformat_minor": 4
}
